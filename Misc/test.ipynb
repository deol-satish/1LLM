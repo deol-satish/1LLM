{
 "cells": [
  {
   "cell_type": "code",
   "execution_count": 4,
   "metadata": {},
   "outputs": [
    {
     "name": "stdout",
     "output_type": "stream",
     "text": [
      "Inputs:tensor([[-1.1438, -0.9032, -1.2066,  0.8840,  0.8116, -0.6463, -0.6068,  1.8340,\n",
      "         -0.3353,  0.4056],\n",
      "        [ 0.7004, -0.2357, -0.7648,  0.0164, -0.2268,  1.8716,  0.6429,  0.8387,\n",
      "          1.0142, -0.5895],\n",
      "        [ 1.8091,  0.0306, -2.0824,  1.4927,  1.5756,  0.9882,  0.2404,  1.1457,\n",
      "         -1.1351, -2.1043],\n",
      "        [-1.0774,  0.7546, -0.5132,  1.1366, -0.3012,  0.7634,  1.6964,  0.3777,\n",
      "          0.6199,  1.4812],\n",
      "        [-1.2299,  0.9763, -2.5633,  0.4881,  0.9585, -1.5349,  0.5716,  1.4477,\n",
      "         -0.0853,  0.4490]])\n",
      "Targets:tensor([0, 1, 2, 1, 0])\n",
      "Outputs:tensor([[-0.6178, -0.0695, -0.4508],\n",
      "        [-0.9498, -0.6199,  0.1102],\n",
      "        [-0.6795, -1.1783,  0.4174],\n",
      "        [-0.0186, -1.0841, -0.1545],\n",
      "        [-0.5938, -1.0991, -0.4676]], grad_fn=<AddmmBackward0>)\n",
      "Loss:1.1992372274398804\n",
      "----------------------------\n",
      "Inputs.shape:torch.Size([5, 10])\n",
      "Targets.shape:torch.Size([5])\n",
      "Outputs.shape:torch.Size([5, 3])\n"
     ]
    }
   ],
   "source": [
    "import torch\n",
    "import torch.nn as nn\n",
    "import torch.optim as optim\n",
    "\n",
    "# Define the model (a simple feedforward network for illustration)\n",
    "class SimpleModel(nn.Module):\n",
    "    def __init__(self, input_size, num_classes):\n",
    "        super(SimpleModel, self).__init__()\n",
    "        self.fc = nn.Linear(input_size, num_classes)\n",
    "    \n",
    "    def forward(self, x):\n",
    "        return self.fc(x)\n",
    "\n",
    "# Create a model instance\n",
    "input_size = 10  # Number of input features\n",
    "num_classes = 3   # Number of output classes\n",
    "model = SimpleModel(input_size, num_classes)\n",
    "\n",
    "# Define the CrossEntropyLoss function\n",
    "criterion = nn.CrossEntropyLoss()\n",
    "\n",
    "# Create dummy input data and target labels\n",
    "batch_size = 5\n",
    "inputs = torch.randn(batch_size, input_size)  # Random input tensor\n",
    "targets = torch.randint(0, num_classes, (batch_size,))  # Random target labels\n",
    "\n",
    "# Forward pass: compute the model output\n",
    "outputs = model(inputs)\n",
    "\n",
    "# Compute the loss\n",
    "loss = criterion(outputs, targets)\n",
    "\n",
    "print(f\"Inputs:{inputs}\")\n",
    "print(f\"Targets:{targets}\")\n",
    "print(f\"Outputs:{outputs}\")\n",
    "print(f\"Loss:{loss.item()}\")\n",
    "\n",
    "print(\"----------------------------\")\n",
    "print(f\"Inputs.shape:{inputs.shape}\")\n",
    "print(f\"Targets.shape:{targets.shape}\")\n",
    "print(f\"Outputs.shape:{outputs.shape}\")"
   ]
  },
  {
   "cell_type": "code",
   "execution_count": 5,
   "metadata": {},
   "outputs": [
    {
     "name": "stdout",
     "output_type": "stream",
     "text": [
      "0.40760594606399536\n"
     ]
    }
   ],
   "source": [
    "import torch\n",
    "import torch.nn as nn\n",
    "\n",
    "# Define a model output (logits) for 3 classes\n",
    "logits = torch.tensor([[1.0, 2.0, 3.0]], requires_grad=True)  # Example logits\n",
    "\n",
    "# Define ground truth label (e.g., class index 2)\n",
    "target = torch.tensor([2])\n",
    "\n",
    "# Initialize CrossEntropyLoss\n",
    "criterion = nn.CrossEntropyLoss()\n",
    "\n",
    "# Compute loss\n",
    "loss = criterion(logits, target)\n",
    "\n",
    "# Print the loss\n",
    "print(loss.item())\n"
   ]
  },
  {
   "cell_type": "code",
   "execution_count": 6,
   "metadata": {},
   "outputs": [
    {
     "name": "stdout",
     "output_type": "stream",
     "text": [
      "1.2587473392486572\n"
     ]
    }
   ],
   "source": [
    "import torch\n",
    "import torch.nn as nn\n",
    "\n",
    "# Number of classes\n",
    "num_classes = 3\n",
    "\n",
    "# Create a batch of size 20 with random logits for 10 classes\n",
    "logits = torch.randn(20, num_classes, requires_grad=True)  # Example logits\n",
    "\n",
    "# Create a batch of size 20 with random target class indices\n",
    "target = torch.randint(0, num_classes, (20,))  # Random target class indices\n",
    "\n",
    "# Initialize CrossEntropyLoss\n",
    "criterion = nn.CrossEntropyLoss()\n",
    "\n",
    "# Compute loss\n",
    "loss = criterion(logits, target)\n",
    "\n",
    "# Print the loss\n",
    "print(loss.item())\n"
   ]
  },
  {
   "cell_type": "code",
   "execution_count": 7,
   "metadata": {},
   "outputs": [
    {
     "name": "stdout",
     "output_type": "stream",
     "text": [
      "tensor([2, 2, 0, 0, 1, 0, 0, 2, 0, 0, 2, 0, 0, 1, 2, 0, 0, 0, 1, 1])\n"
     ]
    }
   ],
   "source": [
    "print(target)"
   ]
  },
  {
   "cell_type": "code",
   "execution_count": null,
   "metadata": {},
   "outputs": [],
   "source": [
    "import torch\n",
    "import torch.nn as nn\n",
    "import torch.optim as optim\n",
    "\n",
    "# Define a simple model\n",
    "model = nn.Linear(10, 1)\n",
    "\n",
    "# Define a loss function\n",
    "criterion = nn.MSELoss()\n",
    "\n",
    "# Define an optimizer\n",
    "optimizer = optim.SGD(model.parameters(), lr=0.01)\n",
    "\n",
    "# Sample input and target\n",
    "input = torch.randn(10)\n",
    "target = torch.randn(1)\n",
    "\n",
    "# Forward pass\n",
    "output = model(input)  # Model parameters are used to compute predictions\n",
    "loss = criterion(output, target)  # Loss function computes loss from predictions and target\n",
    "\n",
    "# Backward pass\n",
    "loss.backward()  # Computes gradients of the loss with respect to model parameters\n",
    "\n",
    "# Optimizer step\n",
    "optimizer.step()  # Updates model parameters using the gradients stored in .grad attributes\n",
    "\n",
    "# Zero gradients for the next iteration\n",
    "optimizer.zero_grad()\n"
   ]
  }
 ],
 "metadata": {
  "kernelspec": {
   "display_name": "vizenv",
   "language": "python",
   "name": "python3"
  },
  "language_info": {
   "codemirror_mode": {
    "name": "ipython",
    "version": 3
   },
   "file_extension": ".py",
   "mimetype": "text/x-python",
   "name": "python",
   "nbconvert_exporter": "python",
   "pygments_lexer": "ipython3",
   "version": "3.12.8"
  }
 },
 "nbformat": 4,
 "nbformat_minor": 2
}
